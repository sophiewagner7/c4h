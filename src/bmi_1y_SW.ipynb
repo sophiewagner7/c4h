{
 "cells": [
  {
   "cell_type": "markdown",
   "id": "6fdec0b7",
   "metadata": {},
   "source": [
    "# Estimate adolescent bmi loss percentage from baseline at 1-year using data from PCORI trial"
   ]
  },
  {
   "cell_type": "code",
   "execution_count": 1,
   "id": "43437039",
   "metadata": {},
   "outputs": [],
   "source": [
    "import pandas as pd\n",
    "import numpy as np"
   ]
  },
  {
   "cell_type": "code",
   "execution_count": 2,
   "id": "9bf4e081",
   "metadata": {},
   "outputs": [],
   "source": [
    "def get_perc_bmi_change(init_bmi, new_bmi):\n",
    "    bmi_change = ((new_bmi - init_bmi) / init_bmi) * 100\n",
    "    return bmi_change"
   ]
  },
  {
   "cell_type": "markdown",
   "id": "28620566",
   "metadata": {},
   "source": [
    "## Enhanced Primary Care Group"
   ]
  },
  {
   "cell_type": "code",
   "execution_count": 3,
   "id": "cd0e3f48",
   "metadata": {},
   "outputs": [],
   "source": [
    "# Enhanced primary care group\n",
    "# From Simione 2021 Results, Table 3\n",
    "\n",
    "epc_init_bmi_z = 1.91\n",
    "epc_init_bmi_p = 0.9719\n",
    "\n",
    "epc_1y_bmi_z = 1.85\n",
    "epc_1y_bmi_p = 0.9678\n",
    "\n",
    "# Mean value\n",
    "epc_bmi_z_change_1y = 0.06\n",
    "epc_bmi_percentile_change_1y = 0.9719 - 0.9678\n",
    "\n",
    "epc_1y_perc_bmi_z_loss = get_perc_bmi_change(epc_init_bmi_z, epc_1y_bmi_z)"
   ]
  },
  {
   "cell_type": "code",
   "execution_count": 4,
   "id": "5f01e09d",
   "metadata": {},
   "outputs": [
    {
     "data": {
      "text/plain": [
       "-3.141361256544494"
      ]
     },
     "execution_count": 4,
     "metadata": {},
     "output_type": "execute_result"
    }
   ],
   "source": [
    "epc_1y_perc_bmi_z_loss"
   ]
  },
  {
   "cell_type": "code",
   "execution_count": 5,
   "id": "4c91f45a",
   "metadata": {},
   "outputs": [],
   "source": [
    "# Use 95% CI from Figure 2 to get upper and lower bounds and then use to get SE\n",
    "epc_1y_bmi_z_upper = epc_1y_bmi_z + 0.04\n",
    "epc_1y_bmi_z_lower = epc_1y_bmi_z - 0.04\n",
    "\n",
    "epc_1y_perc_bmi_loss_lower = get_perc_bmi_change(epc_init_bmi_z, epc_1y_bmi_z_lower)\n",
    "epc_1y_perc_bmi_loss_upper = get_perc_bmi_change(epc_init_bmi_z, epc_1y_bmi_z_upper)"
   ]
  },
  {
   "cell_type": "code",
   "execution_count": 6,
   "id": "f3393bdd",
   "metadata": {},
   "outputs": [
    {
     "data": {
      "text/plain": [
       "-5.23560209424083"
      ]
     },
     "execution_count": 6,
     "metadata": {},
     "output_type": "execute_result"
    }
   ],
   "source": [
    "epc_1y_perc_bmi_loss_lower"
   ]
  },
  {
   "cell_type": "code",
   "execution_count": 7,
   "id": "c0ebfb20",
   "metadata": {},
   "outputs": [
    {
     "data": {
      "text/plain": [
       "-1.0471204188481569"
      ]
     },
     "execution_count": 7,
     "metadata": {},
     "output_type": "execute_result"
    }
   ],
   "source": [
    "epc_1y_perc_bmi_loss_upper"
   ]
  },
  {
   "cell_type": "code",
   "execution_count": 11,
   "id": "5b87e238",
   "metadata": {},
   "outputs": [],
   "source": [
    "epc_2y_bmi_z = 1.81\n",
    "epc_2y_perc_bmi_loss = get_perc_bmi_change(epc_1y_bmi_z, epc_2y_bmi_z)"
   ]
  },
  {
   "cell_type": "code",
   "execution_count": 12,
   "id": "4d9beb0a",
   "metadata": {},
   "outputs": [
    {
     "data": {
      "text/plain": [
       "-2.162162162162164"
      ]
     },
     "execution_count": 12,
     "metadata": {},
     "output_type": "execute_result"
    }
   ],
   "source": [
    "epc_2y_perc_bmi_loss"
   ]
  },
  {
   "cell_type": "code",
   "execution_count": null,
   "id": "d3a71a5e",
   "metadata": {},
   "outputs": [],
   "source": []
  },
  {
   "cell_type": "markdown",
   "id": "c43f323a",
   "metadata": {},
   "source": [
    "## Enhanced Primary Care + Coaching"
   ]
  },
  {
   "cell_type": "code",
   "execution_count": 22,
   "id": "b5f01eb0",
   "metadata": {},
   "outputs": [],
   "source": [
    "# Enhanced Primary Care + Coaching group\n",
    "# Siminione 2021\n",
    "\n",
    "epcc_init_bmi_z = 1.87 # z-score at randomization\n",
    "epcc_init_bmi_p = 0.9693 # at randomization\n",
    "\n",
    "epcc_1y_bmi_z = 1.79\n",
    "epcc_1y_bmi_p = 0.9633\n",
    "\n",
    "epcc_bmi_z_change_1y = -0.09 # from article\n",
    "epcc_bmi_p_change_1y =  0.0060 \n",
    "\n",
    "epcc_1y_perc_bmi_z_loss = get_perc_bmi_change(epcc_init_bmi_z, epcc_1y_bmi_z)"
   ]
  },
  {
   "cell_type": "code",
   "execution_count": 23,
   "id": "2b8675f8",
   "metadata": {},
   "outputs": [
    {
     "data": {
      "text/plain": [
       "-4.278074866310163"
      ]
     },
     "execution_count": 23,
     "metadata": {},
     "output_type": "execute_result"
    }
   ],
   "source": [
    "epcc_1y_perc_bmi_z_loss"
   ]
  },
  {
   "cell_type": "code",
   "execution_count": 24,
   "id": "f3f510be",
   "metadata": {},
   "outputs": [],
   "source": [
    "epcc_1y_bmi_z_upper = epcc_1y_bmi_z + 0.04\n",
    "epcc_1y_bmi_z_lower = epcc_1y_bmi_z - 0.04\n",
    "\n",
    "epcc_1y_perc_bmi_loss_lower = get_perc_bmi_change(epcc_init_bmi_z, epcc_1y_bmi_z_lower)\n",
    "epcc_1y_perc_bmi_loss_upper = get_perc_bmi_change(epcc_init_bmi_z, epcc_1y_bmi_z_upper)"
   ]
  },
  {
   "cell_type": "code",
   "execution_count": 26,
   "id": "9cd71d1b",
   "metadata": {},
   "outputs": [
    {
     "data": {
      "text/plain": [
       "-6.417112299465246"
      ]
     },
     "execution_count": 26,
     "metadata": {},
     "output_type": "execute_result"
    }
   ],
   "source": [
    "epcc_1y_perc_bmi_loss_lower"
   ]
  },
  {
   "cell_type": "code",
   "execution_count": 27,
   "id": "0a7e788a",
   "metadata": {},
   "outputs": [
    {
     "data": {
      "text/plain": [
       "-2.1390374331550817"
      ]
     },
     "execution_count": 27,
     "metadata": {},
     "output_type": "execute_result"
    }
   ],
   "source": [
    "epcc_1y_perc_bmi_loss_upper"
   ]
  }
 ],
 "metadata": {
  "kernelspec": {
   "display_name": "Python 3 (ipykernel)",
   "language": "python",
   "name": "python3"
  },
  "language_info": {
   "codemirror_mode": {
    "name": "ipython",
    "version": 3
   },
   "file_extension": ".py",
   "mimetype": "text/x-python",
   "name": "python",
   "nbconvert_exporter": "python",
   "pygments_lexer": "ipython3",
   "version": "3.9.12"
  }
 },
 "nbformat": 4,
 "nbformat_minor": 5
}
